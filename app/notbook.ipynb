{
 "cells": [
  {
   "cell_type": "code",
   "execution_count": 1,
   "metadata": {},
   "outputs": [],
   "source": [
    "import pandas as pd"
   ]
  },
  {
   "cell_type": "code",
   "execution_count": 2,
   "metadata": {},
   "outputs": [],
   "source": [
    "dfnetflix = pd.read_json(\"datasets/netflix_titles.json\")\n",
    "dfamazon = pd.read_csv(\"datasets/amazon_prime_titles.csv\")\n",
    "dfdisney = pd.read_csv(\"datasets/disney_plus_titles.csv\")\n",
    "dfhulu = pd.read_csv(\"datasets/hulu_titles.csv\")"
   ]
  },
  {
   "cell_type": "code",
   "execution_count": 3,
   "metadata": {},
   "outputs": [],
   "source": [
    "dfnetflix[\"plataforma\"] = \"Netflix\"\n",
    "dfamazon[\"plataforma\"] = \"Amazon prime\"\n",
    "dfdisney[\"plataforma\"] = \"Disney plus\"\n",
    "dfhulu[\"plataforma\"] = \"Hulu\""
   ]
  },
  {
   "cell_type": "code",
   "execution_count": 4,
   "metadata": {},
   "outputs": [],
   "source": [
    "netflix = dfnetflix[[\"duration\",\"type\",\"plataforma\",\"release_year\",\"listed_in\",\"cast\"]]\n",
    "amazon = dfamazon[[\"duration\",\"type\",\"plataforma\",\"release_year\",\"listed_in\",\"cast\"]]\n",
    "disneyplus = dfdisney[[\"duration\",\"type\",\"plataforma\",\"release_year\",\"listed_in\",\"cast\"]]\n",
    "hulu = dfhulu[[\"duration\",\"type\",\"plataforma\",\"release_year\",\"listed_in\",\"cast\"]]"
   ]
  },
  {
   "cell_type": "code",
   "execution_count": 5,
   "metadata": {},
   "outputs": [],
   "source": [
    "netflix.columns = ['Duración', 'Pelicula_Serie', 'Plataforma', 'Año', 'Genero', 'Actores']\n",
    "amazon.columns = ['Duración', 'Pelicula_Serie', 'Plataforma', 'Año', 'Genero', 'Actores']\n",
    "disneyplus.columns = ['Duración', 'Pelicula_Serie', 'Plataforma', 'Año', 'Genero', 'Actores']\n",
    "hulu.columns = ['Duración', 'Pelicula_Serie', 'Plataforma', 'Año', 'Genero', 'Actores']\n"
   ]
  },
  {
   "cell_type": "code",
   "execution_count": 6,
   "metadata": {},
   "outputs": [],
   "source": [
    "movies = pd.concat([netflix, amazon, disneyplus,hulu]).reset_index()\n",
    "movies = movies.drop(['index'], axis=1)"
   ]
  },
  {
   "cell_type": "code",
   "execution_count": 7,
   "metadata": {},
   "outputs": [],
   "source": [
    "movies[\"Duración\"] = movies[\"Duración\"].replace({\"[a-zA-Z]\":\"\"}, regex=True)\n",
    "movies[\"Duración\"] = movies[\"Duración\"].fillna(0)\n",
    "movies[\"Duración\"] = movies[\"Duración\"].astype(\"int64\")"
   ]
  },
  {
   "cell_type": "code",
   "execution_count": 22,
   "metadata": {},
   "outputs": [
    {
     "data": {
      "text/html": [
       "<div>\n",
       "<style scoped>\n",
       "    .dataframe tbody tr th:only-of-type {\n",
       "        vertical-align: middle;\n",
       "    }\n",
       "\n",
       "    .dataframe tbody tr th {\n",
       "        vertical-align: top;\n",
       "    }\n",
       "\n",
       "    .dataframe thead th {\n",
       "        text-align: right;\n",
       "    }\n",
       "</style>\n",
       "<table border=\"1\" class=\"dataframe\">\n",
       "  <thead>\n",
       "    <tr style=\"text-align: right;\">\n",
       "      <th></th>\n",
       "      <th>Duración</th>\n",
       "      <th>Pelicula_Serie</th>\n",
       "      <th>Plataforma</th>\n",
       "      <th>Año</th>\n",
       "      <th>Genero</th>\n",
       "      <th>Actores</th>\n",
       "    </tr>\n",
       "  </thead>\n",
       "  <tbody>\n",
       "    <tr>\n",
       "      <th>0</th>\n",
       "      <td>90</td>\n",
       "      <td>Movie</td>\n",
       "      <td>Netflix</td>\n",
       "      <td>2020</td>\n",
       "      <td>Documentaries</td>\n",
       "      <td>None</td>\n",
       "    </tr>\n",
       "    <tr>\n",
       "      <th>1</th>\n",
       "      <td>2</td>\n",
       "      <td>TV Show</td>\n",
       "      <td>Netflix</td>\n",
       "      <td>2021</td>\n",
       "      <td>International TV Shows, TV Dramas, TV Mysteries</td>\n",
       "      <td>Ama Qamata, Khosi Ngema, Gail Mabalane, Thaban...</td>\n",
       "    </tr>\n",
       "    <tr>\n",
       "      <th>2</th>\n",
       "      <td>1</td>\n",
       "      <td>TV Show</td>\n",
       "      <td>Netflix</td>\n",
       "      <td>2021</td>\n",
       "      <td>Crime TV Shows, International TV Shows, TV Act...</td>\n",
       "      <td>Sami Bouajila, Tracy Gotoas, Samuel Jouy, Nabi...</td>\n",
       "    </tr>\n",
       "    <tr>\n",
       "      <th>3</th>\n",
       "      <td>1</td>\n",
       "      <td>TV Show</td>\n",
       "      <td>Netflix</td>\n",
       "      <td>2021</td>\n",
       "      <td>Docuseries, Reality TV</td>\n",
       "      <td>None</td>\n",
       "    </tr>\n",
       "    <tr>\n",
       "      <th>4</th>\n",
       "      <td>2</td>\n",
       "      <td>TV Show</td>\n",
       "      <td>Netflix</td>\n",
       "      <td>2021</td>\n",
       "      <td>International TV Shows, Romantic TV Shows, TV ...</td>\n",
       "      <td>Mayur More, Jitendra Kumar, Ranjan Raj, Alam K...</td>\n",
       "    </tr>\n",
       "  </tbody>\n",
       "</table>\n",
       "</div>"
      ],
      "text/plain": [
       "   Duración Pelicula_Serie Plataforma   Año  \\\n",
       "0        90          Movie    Netflix  2020   \n",
       "1         2        TV Show    Netflix  2021   \n",
       "2         1        TV Show    Netflix  2021   \n",
       "3         1        TV Show    Netflix  2021   \n",
       "4         2        TV Show    Netflix  2021   \n",
       "\n",
       "                                              Genero  \\\n",
       "0                                      Documentaries   \n",
       "1    International TV Shows, TV Dramas, TV Mysteries   \n",
       "2  Crime TV Shows, International TV Shows, TV Act...   \n",
       "3                             Docuseries, Reality TV   \n",
       "4  International TV Shows, Romantic TV Shows, TV ...   \n",
       "\n",
       "                                             Actores  \n",
       "0                                               None  \n",
       "1  Ama Qamata, Khosi Ngema, Gail Mabalane, Thaban...  \n",
       "2  Sami Bouajila, Tracy Gotoas, Samuel Jouy, Nabi...  \n",
       "3                                               None  \n",
       "4  Mayur More, Jitendra Kumar, Ranjan Raj, Alam K...  "
      ]
     },
     "execution_count": 22,
     "metadata": {},
     "output_type": "execute_result"
    }
   ],
   "source": [
    "movies.head()"
   ]
  },
  {
   "cell_type": "code",
   "execution_count": 9,
   "metadata": {},
   "outputs": [],
   "source": [
    "def get_max_duration(año, plataforma, Movie_o_TV_Show):\n",
    "    \n",
    "    if (año in movies[\"Año\"].values) and (plataforma in movies[\"Plataforma\"].values) and (Movie_o_TV_Show in movies[\"Pelicula_Serie\"].values):\n",
    "        \n",
    "\n",
    "        if Movie_o_TV_Show == \"Movie\":\n",
    "            resultado = movies[(movies[\"Plataforma\"] == plataforma) & (movies[\"Año\"] == año)][\"Duración\"].max()\n",
    "            tiempo = \"minutos\"\n",
    "        elif Movie_o_TV_Show == \"TV Show\":\n",
    "            resultado = movies[(movies[\"Plataforma\"] == plataforma) & (movies[\"Año\"] == año)][\"Duración\"].max()\n",
    "            tiempo = \"series\"\n",
    "        else:\n",
    "            resultado = \"no se encontró resultado\"\n",
    "        tupla = [año, plataforma, Movie_o_TV_Show, resultado]\n",
    "        return print(f\"En el año {tupla[0]}, la plataforma {tupla[1]} tiene una {tupla[2]} de {tupla[3]} {tiempo}\")\n",
    "    \n",
    "    else: return \"No se encontró resultado\"\n",
    "\n"
   ]
  },
  {
   "cell_type": "code",
   "execution_count": 10,
   "metadata": {},
   "outputs": [
    {
     "name": "stdout",
     "output_type": "stream",
     "text": [
      "En el año 2009, la plataforma Netflix tiene una Movie de 203 minutos\n"
     ]
    }
   ],
   "source": [
    "asdasd  = get_max_duration(2009,\"Netflix\",\"Movie\")\n",
    "asdasd"
   ]
  },
  {
   "cell_type": "code",
   "execution_count": 25,
   "metadata": {},
   "outputs": [],
   "source": [
    "plataforma = \"Netflix\"\n",
    "peliculas = movies[(movies[\"Plataforma\"] == plataforma) & (movies[\"Pelicula_Serie\"] == \"Movie\")][\"Plataforma\"].count()\n",
    "series = movies[(movies[\"Plataforma\"] == plataforma) & (movies[\"Pelicula_Serie\"] == \"TV Show\")][\"Plataforma\"].count()\n"
   ]
  },
  {
   "cell_type": "code",
   "execution_count": 31,
   "metadata": {},
   "outputs": [
    {
     "data": {
      "text/plain": [
       "0        False\n",
       "1        False\n",
       "2        False\n",
       "3        False\n",
       "4        False\n",
       "         ...  \n",
       "22993    False\n",
       "22994    False\n",
       "22995    False\n",
       "22996    False\n",
       "22997    False\n",
       "Name: Genero, Length: 22998, dtype: bool"
      ]
     },
     "execution_count": 31,
     "metadata": {},
     "output_type": "execute_result"
    }
   ],
   "source": [
    "genero = \"Romantic TV Shows\"\n",
    "movies[\"Genero\"].isin([genero])"
   ]
  }
 ],
 "metadata": {
  "kernelspec": {
   "display_name": "Python 3",
   "language": "python",
   "name": "python3"
  },
  "language_info": {
   "codemirror_mode": {
    "name": "ipython",
    "version": 3
   },
   "file_extension": ".py",
   "mimetype": "text/x-python",
   "name": "python",
   "nbconvert_exporter": "python",
   "pygments_lexer": "ipython3",
   "version": "3.10.9"
  },
  "orig_nbformat": 4,
  "vscode": {
   "interpreter": {
    "hash": "24cb59c2cc197bd1f2722fa439534c4fa24671147bf227b67ac67c1d0468d56f"
   }
  }
 },
 "nbformat": 4,
 "nbformat_minor": 2
}
